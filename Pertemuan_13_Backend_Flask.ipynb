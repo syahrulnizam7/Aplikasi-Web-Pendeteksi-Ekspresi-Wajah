{
  "cells": [
    {
      "cell_type": "markdown",
      "metadata": {
        "id": "XzGVsFJgEH--"
      },
      "source": [
        "<h1>KELOMPOK 7</h1>\n",
        "<p>Backend Flask Project Deteksi Emosi Berdasarkan Ekspresi Wajah (Facial Emotion Recognition) : Angry, Disgust, Fear, Happy, Neutral, Sad dan Suprise.</p>\n",
        "<p>oleh: </p>\n",
        "<li>Rio Pardomuan Marpaung</li>\n",
        "<li>Muhammad Syahrul Nizam</li>\n",
        "<li>Nada Marliani</li>\n",
        "\n"
      ]
    },
    {
      "cell_type": "code",
      "execution_count": 1,
      "metadata": {
        "colab": {
          "base_uri": "https://localhost:8080/"
        },
        "id": "S1b2wvkf6f5o",
        "outputId": "474cc724-90c6-4e0c-c92a-511f3e6c7f5f"
      },
      "outputs": [
        {
          "output_type": "stream",
          "name": "stdout",
          "text": [
            "Looking in indexes: https://pypi.org/simple, https://us-python.pkg.dev/colab-wheels/public/simple/\n",
            "Requirement already satisfied: flask-ngrok in /usr/local/lib/python3.7/dist-packages (0.0.25)\n",
            "Requirement already satisfied: requests in /usr/local/lib/python3.7/dist-packages (from flask-ngrok) (2.23.0)\n",
            "Requirement already satisfied: Flask>=0.8 in /usr/local/lib/python3.7/dist-packages (from flask-ngrok) (1.1.4)\n",
            "Requirement already satisfied: Werkzeug<2.0,>=0.15 in /usr/local/lib/python3.7/dist-packages (from Flask>=0.8->flask-ngrok) (1.0.1)\n",
            "Requirement already satisfied: Jinja2<3.0,>=2.10.1 in /usr/local/lib/python3.7/dist-packages (from Flask>=0.8->flask-ngrok) (2.11.3)\n",
            "Requirement already satisfied: click<8.0,>=5.1 in /usr/local/lib/python3.7/dist-packages (from Flask>=0.8->flask-ngrok) (7.1.2)\n",
            "Requirement already satisfied: itsdangerous<2.0,>=0.24 in /usr/local/lib/python3.7/dist-packages (from Flask>=0.8->flask-ngrok) (1.1.0)\n",
            "Requirement already satisfied: MarkupSafe>=0.23 in /usr/local/lib/python3.7/dist-packages (from Jinja2<3.0,>=2.10.1->Flask>=0.8->flask-ngrok) (2.0.1)\n",
            "Requirement already satisfied: certifi>=2017.4.17 in /usr/local/lib/python3.7/dist-packages (from requests->flask-ngrok) (2022.6.15)\n",
            "Requirement already satisfied: urllib3!=1.25.0,!=1.25.1,<1.26,>=1.21.1 in /usr/local/lib/python3.7/dist-packages (from requests->flask-ngrok) (1.24.3)\n",
            "Requirement already satisfied: idna<3,>=2.5 in /usr/local/lib/python3.7/dist-packages (from requests->flask-ngrok) (2.10)\n",
            "Requirement already satisfied: chardet<4,>=3.0.2 in /usr/local/lib/python3.7/dist-packages (from requests->flask-ngrok) (3.0.4)\n",
            "Looking in indexes: https://pypi.org/simple, https://us-python.pkg.dev/colab-wheels/public/simple/\n",
            "Requirement already satisfied: gevent in /usr/local/lib/python3.7/dist-packages (21.12.0)\n",
            "Requirement already satisfied: zope.event in /usr/local/lib/python3.7/dist-packages (from gevent) (4.5.0)\n",
            "Requirement already satisfied: zope.interface in /usr/local/lib/python3.7/dist-packages (from gevent) (5.4.0)\n",
            "Requirement already satisfied: setuptools in /usr/local/lib/python3.7/dist-packages (from gevent) (57.4.0)\n",
            "Requirement already satisfied: greenlet<2.0,>=1.1.0 in /usr/local/lib/python3.7/dist-packages (from gevent) (1.1.2)\n",
            "Looking in indexes: https://pypi.org/simple, https://us-python.pkg.dev/colab-wheels/public/simple/\n",
            "Requirement already satisfied: flask in /usr/local/lib/python3.7/dist-packages (1.1.4)\n",
            "Requirement already satisfied: click<8.0,>=5.1 in /usr/local/lib/python3.7/dist-packages (from flask) (7.1.2)\n",
            "Requirement already satisfied: Jinja2<3.0,>=2.10.1 in /usr/local/lib/python3.7/dist-packages (from flask) (2.11.3)\n",
            "Requirement already satisfied: itsdangerous<2.0,>=0.24 in /usr/local/lib/python3.7/dist-packages (from flask) (1.1.0)\n",
            "Requirement already satisfied: Werkzeug<2.0,>=0.15 in /usr/local/lib/python3.7/dist-packages (from flask) (1.0.1)\n",
            "Requirement already satisfied: MarkupSafe>=0.23 in /usr/local/lib/python3.7/dist-packages (from Jinja2<3.0,>=2.10.1->flask) (2.0.1)\n",
            "Looking in indexes: https://pypi.org/simple, https://us-python.pkg.dev/colab-wheels/public/simple/\n",
            "Requirement already satisfied: pyngrok in /usr/local/lib/python3.7/dist-packages (5.1.0)\n",
            "Requirement already satisfied: PyYAML in /usr/local/lib/python3.7/dist-packages (from pyngrok) (3.13)\n"
          ]
        }
      ],
      "source": [
        "!pip install flask-ngrok\n",
        "!pip install gevent\n",
        "!pip install flask\n",
        "!pip install pyngrok"
      ]
    },
    {
      "cell_type": "code",
      "execution_count": 2,
      "metadata": {
        "colab": {
          "base_uri": "https://localhost:8080/"
        },
        "id": "V-V-bKCJ6_PW",
        "outputId": "f87c8b9e-dc61-4f35-97ad-bdd0bd5601d2"
      },
      "outputs": [
        {
          "output_type": "stream",
          "name": "stdout",
          "text": [
            "Authtoken saved to configuration file: /root/.ngrok2/ngrok.yml\n"
          ]
        }
      ],
      "source": [
        "!ngrok authtoken 2BY20nYU5gs8tzppzFg3I1dsTAz_eEjEAcNaeL2k6UCCXRT9"
      ]
    },
    {
      "cell_type": "code",
      "execution_count": 3,
      "metadata": {
        "colab": {
          "base_uri": "https://localhost:8080/"
        },
        "id": "ZhlaqJ4GH9_u",
        "outputId": "29d657ef-6215-4da6-9116-c5fa63c25639"
      },
      "outputs": [
        {
          "output_type": "stream",
          "name": "stdout",
          "text": [
            "Drive already mounted at /content/drive; to attempt to forcibly remount, call drive.mount(\"/content/drive\", force_remount=True).\n"
          ]
        }
      ],
      "source": [
        "from google.colab import drive\n",
        "drive.mount('/content/drive')"
      ]
    },
    {
      "cell_type": "code",
      "execution_count": 4,
      "metadata": {
        "id": "WSpd2EOY7Hhm"
      },
      "outputs": [],
      "source": [
        "#Import Library\n",
        "\n",
        "from __future__ import division,print_function\n",
        "#coding=utf-8\n",
        "import sys\n",
        "import os\n",
        "import glob\n",
        "import re\n",
        "import numpy as np\n",
        "\n",
        "#Keras\n",
        "from keras.applications.imagenet_utils import preprocess_input,decode_predictions\n",
        "from keras.models import load_model\n",
        "from keras.preprocessing import image\n",
        "from keras.preprocessing.image import ImageDataGenerator\n",
        "\n",
        "#Flask utils\n",
        "from flask import Flask,redirect,url_for,request,render_template\n",
        "from werkzeug.utils import secure_filename\n",
        "from gevent.pywsgi import WSGIServer"
      ]
    },
    {
      "cell_type": "code",
      "execution_count": 5,
      "metadata": {
        "id": "YgDy2NBW-wzX"
      },
      "outputs": [],
      "source": [
        "import flask\n",
        "from flask import request\n",
        "import pandas as pd\n",
        "import tensorflow as tf\n",
        "import keras\n",
        "import random\n",
        "from os.path import join,dirname,realpath\n",
        "from tensorflow.keras.preprocessing.image import img_to_array,load_img\n",
        "from flask_ngrok import run_with_ngrok\n",
        "from werkzeug.utils import secure_filename\n",
        "\n",
        "import matplotlib.pyplot as plt\n",
        "%matplotlib inline"
      ]
    },
    {
      "cell_type": "code",
      "execution_count": 6,
      "metadata": {
        "id": "v_lIJXNilpzk"
      },
      "outputs": [],
      "source": [
        "def emotion_analysis(emotions):\n",
        "    objects = ('angry', 'disgust', 'fear', 'happy', 'sad', 'surprise', 'neutral')\n",
        "    y_pos = np.arange(len(objects))\n",
        " \n",
        "    plt.bar(y_pos, emotions, align='center', alpha=0.5)\n",
        "    plt.xticks(y_pos, objects)\n",
        "    plt.ylabel('percentage')\n",
        "    plt.title('emotion')\n",
        "    plt.show()"
      ]
    },
    {
      "cell_type": "code",
      "execution_count": 9,
      "metadata": {
        "id": "7TWD5A1X_yie"
      },
      "outputs": [],
      "source": [
        "#Create Flask\n",
        "app = Flask(__name__) \n",
        "model = tf.keras.models.load_model('/content/drive/MyDrive/Developer/model.h5') \n",
        "run_with_ngrok(app) \n",
        "#Routing Flask\n",
        "@app.route('/',methods=['GET'])\n",
        "def index():\n",
        "    return\"<h1>Hello World</h1>\"\n",
        "@app.route('/predict',methods=['GET','POST'])\n",
        "def upload():\n",
        "  #Extract the image files into a list and shuffle it\n",
        "  data={\"success\":False}\n",
        "  namafile=''\n",
        "  if request.method == 'POST':\n",
        "    file=request.files['file']\n",
        "    if file.filename == '':\n",
        "      data[\"file\"]=\"Tidak ada file\"\n",
        "    else:\n",
        "      data[\"file\"]=\"File berhasil di simpan\"\n",
        "      filename=secure_filename(file.filename)\n",
        "      file.save('data_tes/'+file.filename)\n",
        "      namafile='data_tes/'+file.filename\n",
        "    \n",
        "    true_image = image.load_img(namafile)\n",
        "    img=load_img(namafile,target_size=(48,48), color_mode=\"grayscale\")\n",
        "    x=img_to_array(img)\n",
        "    x = np.expand_dims(x, axis = 0)\n",
        "    #x=x.reshape((1,)+x.shape)\n",
        "    x/=255.0\n",
        "\n",
        "    custom = model.predict(x)\n",
        "    emotion_analysis(custom[0])\n",
        "\n",
        "    x = np.array(x, 'float32')\n",
        "    x = x.reshape([48, 48]);\n",
        "\n",
        "    plt.imshow(true_image)\n",
        "    plt.show()\n",
        "\n",
        "    x=x.reshape((1,)+x.shape)\n",
        "    predict = model.predict(x,batch_size=1)\n",
        "    print(predict)\n",
        "    hasil=np.argmax(predict)\n",
        "    temp=0\n",
        "    label=0\n",
        "    data[\"success\"]=str(predict)\n",
        "    data[\"label\"]= str(hasil)\n",
        "    print(data)\n",
        "    return flask.jsonify(data)"
      ]
    },
    {
      "cell_type": "code",
      "execution_count": null,
      "metadata": {
        "colab": {
          "base_uri": "https://localhost:8080/",
          "height": 1000
        },
        "id": "1GfZm_ZYBE4H",
        "outputId": "c1c13911-4ef5-4778-963a-f3a2ad064576"
      },
      "outputs": [
        {
          "metadata": {
            "tags": null
          },
          "name": "stdout",
          "output_type": "stream",
          "text": [
            " * Serving Flask app \"__main__\" (lazy loading)\n",
            " * Environment: production\n",
            "\u001b[31m   WARNING: This is a development server. Do not use it in a production deployment.\u001b[0m\n",
            "\u001b[2m   Use a production WSGI server instead.\u001b[0m\n",
            " * Debug mode: off\n"
          ]
        },
        {
          "metadata": {
            "tags": null
          },
          "name": "stderr",
          "output_type": "stream",
          "text": [
            " * Running on http://127.0.0.1:5000/ (Press CTRL+C to quit)\n"
          ]
        },
        {
          "metadata": {
            "tags": null
          },
          "name": "stdout",
          "output_type": "stream",
          "text": [
            " * Running on http://5a01-35-204-221-99.ngrok.io\n",
            " * Traffic stats available on http://127.0.0.1:4040\n"
          ]
        },
        {
          "data": {
            "image/png": "[encoded data removed]",
            "text/plain": [
              "<Figure size 432x288 with 1 Axes>"
            ]
          },
          "metadata": {},
          "output_type": "display_data"
        },
        {
          "data": {
            "image/png": "[encoded data removed]",
            "text/plain": [
              "<Figure size 432x288 with 1 Axes>"
            ]
          },
          "metadata": {},
          "output_type": "display_data"
        },
        {
          "metadata": {
            "tags": null
          },
          "name": "stderr",
          "output_type": "stream",
          "text": [
            "127.0.0.1 - - [02/Aug/2022 16:22:30] \"\u001b[37mPOST /predict HTTP/1.1\u001b[0m\" 200 -\n"
          ]
        },
        {
          "metadata": {
            "tags": null
          },
          "name": "stdout",
          "output_type": "stream",
          "text": [
            "[[5.9812343e-01 3.2136971e-04 2.5169419e-02 3.8974636e-04 1.1883185e-01\n",
            "  2.3893504e-01 1.8229181e-02]]\n",
            "{'success': '[[5.9812343e-01 3.2136971e-04 2.5169419e-02 3.8974636e-04 1.1883185e-01\\n  2.3893504e-01 1.8229181e-02]]', 'file': 'File berhasil di simpan', 'label': '0'}\n"
          ]
        },
        {
          "data": {
            "image/png": "[encoded data removed]",
            "text/plain": [
              "<Figure size 432x288 with 1 Axes>"
            ]
          },
          "metadata": {},
          "output_type": "display_data"
        },
        {
          "data": {
            "image/png": "[encoded data removed]",
            "text/plain": [
              "<Figure size 432x288 with 1 Axes>"
            ]
          },
          "metadata": {},
          "output_type": "display_data"
        },
        {
          "metadata": {
            "tags": null
          },
          "name": "stderr",
          "output_type": "stream",
          "text": [
            "127.0.0.1 - - [02/Aug/2022 16:23:25] \"\u001b[37mPOST /predict HTTP/1.1\u001b[0m\" 200 -\n"
          ]
        },
        {
          "metadata": {
            "tags": null
          },
          "name": "stdout",
          "output_type": "stream",
          "text": [
            "[[9.9899894e-01 6.6119036e-08 5.2813780e-06 6.6026452e-04 6.2512416e-05\n",
            "  4.0711734e-06 2.6893421e-04]]\n",
            "{'success': '[[9.9899894e-01 6.6119036e-08 5.2813780e-06 6.6026452e-04 6.2512416e-05\\n  4.0711734e-06 2.6893421e-04]]', 'file': 'File berhasil di simpan', 'label': '0'}\n"
          ]
        },
        {
          "data": {
            "image/png": "[encoded data removed]",
            "text/plain": [
              "<Figure size 432x288 with 1 Axes>"
            ]
          },
          "metadata": {},
          "output_type": "display_data"
        },
        {
          "data": {
            "image/png": "[encoded data removed]",
            "text/plain": [
              "<Figure size 432x288 with 1 Axes>"
            ]
          },
          "metadata": {},
          "output_type": "display_data"
        },
        {
          "metadata": {
            "tags": null
          },
          "name": "stderr",
          "output_type": "stream",
          "text": [
            "127.0.0.1 - - [02/Aug/2022 16:25:02] \"\u001b[37mPOST /predict HTTP/1.1\u001b[0m\" 200 -\n"
          ]
        },
        {
          "metadata": {
            "tags": null
          },
          "name": "stdout",
          "output_type": "stream",
          "text": [
            "[[9.9321151e-01 7.5049541e-04 1.9959365e-03 1.7693567e-04 8.5970166e-04\n",
            "  2.6945041e-03 3.1080318e-04]]\n",
            "{'success': '[[9.9321151e-01 7.5049541e-04 1.9959365e-03 1.7693567e-04 8.5970166e-04\\n  2.6945041e-03 3.1080318e-04]]', 'file': 'File berhasil di simpan', 'label': '0'}\n"
          ]
        }
      ],
      "source": [
        "app.run()"
      ]
    }
  ],
  "metadata": {
    "colab": {
      "collapsed_sections": [],
      "name": "Pertemuan_13_Backend_Flask.ipynb",
      "provenance": []
    },
    "kernelspec": {
      "display_name": "Python 3",
      "name": "python3"
    },
    "language_info": {
      "name": "python"
    }
  },
  "nbformat": 4,
  "nbformat_minor": 0
}